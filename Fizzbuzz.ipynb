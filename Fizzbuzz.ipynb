{
 "cells": [
  {
   "cell_type": "markdown",
   "id": "af801ffd",
   "metadata": {},
   "source": [
    "### 3.Write a program that prints the number for 1 to 50, for number multiple of 2 print 'fizz' instead of a number, for numbers multiple of 3 print 'buzz', for numbers which are multiple of both 2 and 3 'fizzbuzz.'\n",
    "\n",
    "Submission: Share .ipynb file or .py file"
   ]
  },
  {
   "cell_type": "code",
   "execution_count": 1,
   "id": "73559c43",
   "metadata": {},
   "outputs": [
    {
     "name": "stdout",
     "output_type": "stream",
     "text": [
      "1\n",
      "fizz\n",
      "buzz\n",
      "fizz\n",
      "5\n",
      "fizzbuzz\n",
      "7\n",
      "fizz\n",
      "buzz\n",
      "fizz\n",
      "11\n",
      "fizzbuzz\n",
      "13\n",
      "fizz\n",
      "buzz\n",
      "fizz\n",
      "17\n",
      "fizzbuzz\n",
      "19\n",
      "fizz\n",
      "buzz\n",
      "fizz\n",
      "23\n",
      "fizzbuzz\n",
      "25\n",
      "fizz\n",
      "buzz\n",
      "fizz\n",
      "29\n",
      "fizzbuzz\n",
      "31\n",
      "fizz\n",
      "buzz\n",
      "fizz\n",
      "35\n",
      "fizzbuzz\n",
      "37\n",
      "fizz\n",
      "buzz\n",
      "fizz\n",
      "41\n",
      "fizzbuzz\n",
      "43\n",
      "fizz\n",
      "buzz\n",
      "fizz\n",
      "47\n",
      "fizzbuzz\n",
      "49\n",
      "fizz\n"
     ]
    }
   ],
   "source": [
    "def fizzbuzz():\n",
    "    for num in range(1, 51):\n",
    "        if num % 2 == 0 and num % 3 == 0:\n",
    "            print('fizzbuzz')\n",
    "        elif num % 2 == 0:\n",
    "            print('fizz')\n",
    "        elif num % 3 == 0:\n",
    "            print('buzz')\n",
    "        else:\n",
    "            print(num)\n",
    "\n",
    "if __name__ == \"__main__\":\n",
    "    fizzbuzz()\n"
   ]
  }
 ],
 "metadata": {
  "kernelspec": {
   "display_name": "Python 3 (ipykernel)",
   "language": "python",
   "name": "python3"
  },
  "language_info": {
   "codemirror_mode": {
    "name": "ipython",
    "version": 3
   },
   "file_extension": ".py",
   "mimetype": "text/x-python",
   "name": "python",
   "nbconvert_exporter": "python",
   "pygments_lexer": "ipython3",
   "version": "3.9.12"
  }
 },
 "nbformat": 4,
 "nbformat_minor": 5
}
