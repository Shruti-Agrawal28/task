{
 "cells": [
  {
   "cell_type": "code",
   "execution_count": 23,
   "id": "b2d93021",
   "metadata": {},
   "outputs": [
    {
     "name": "stdout",
     "output_type": "stream",
     "text": [
      "!dlroW ,olleH\n"
     ]
    }
   ],
   "source": [
    "# 1. Write a Python program to reverse a string without using any built-in string reversal functions.\n",
    "\n",
    "def reverse_string(string):\n",
    "    reversed_string = \"\"\n",
    "    for char in string:\n",
    "        reversed_string = char + reversed_string\n",
    "    return reversed_string\n",
    "\n",
    "# Example usage\n",
    "input_string = \"Hello, World!\"\n",
    "reversed_string = reverse_string(input_string)\n",
    "print(reversed_string)\n"
   ]
  },
  {
   "cell_type": "code",
   "execution_count": 24,
   "id": "0b5c3484",
   "metadata": {},
   "outputs": [
    {
     "name": "stdout",
     "output_type": "stream",
     "text": [
      "True\n"
     ]
    }
   ],
   "source": [
    "# 2. Implement a function to check if a given string is a palindrome.\n",
    "\n",
    "def is_palindrome(string):\n",
    "    reversed_string = string[::-1]\n",
    "    if string == reversed_string:\n",
    "        return True\n",
    "    else:\n",
    "        return False\n",
    "\n",
    "# Example usage\n",
    "input_string = \"radar\"\n",
    "result = is_palindrome(input_string)\n",
    "print(result)"
   ]
  },
  {
   "cell_type": "code",
   "execution_count": 25,
   "id": "2e21fcd7",
   "metadata": {},
   "outputs": [
    {
     "name": "stdout",
     "output_type": "stream",
     "text": [
      "9\n"
     ]
    }
   ],
   "source": [
    "# 3. Write a program to find the largest element in a given list.\n",
    "\n",
    "def find_largest_element(lst):\n",
    "    largest = lst[0]\n",
    "    for num in lst:\n",
    "        if num > largest:\n",
    "            largest = num\n",
    "    return largest\n",
    "\n",
    "# Example usage\n",
    "numbers = [4, 9, 2, 7, 5]\n",
    "largest_number = find_largest_element(numbers)\n",
    "print(largest_number)"
   ]
  },
  {
   "cell_type": "code",
   "execution_count": 26,
   "id": "a8b32ab8",
   "metadata": {},
   "outputs": [
    {
     "name": "stdout",
     "output_type": "stream",
     "text": [
      "{'apple': 3, 'banana': 2, 'orange': 1}\n"
     ]
    }
   ],
   "source": [
    "# 4. Implement a function to count the occurrence of each element in a list.\n",
    "\n",
    "def count_occurrences(lst):\n",
    "    count_dict = {}\n",
    "    for item in lst:\n",
    "        if item in count_dict:\n",
    "            count_dict[item] += 1\n",
    "        else:\n",
    "            count_dict[item] = 1\n",
    "    return count_dict\n",
    "\n",
    "# Example usage\n",
    "fruits = [\"apple\", \"banana\", \"apple\", \"orange\", \"banana\", \"apple\"]\n",
    "occurrences = count_occurrences(fruits)\n",
    "print(occurrences)"
   ]
  },
  {
   "cell_type": "code",
   "execution_count": 27,
   "id": "d2ef15a4",
   "metadata": {},
   "outputs": [
    {
     "name": "stdout",
     "output_type": "stream",
     "text": [
      "7\n"
     ]
    }
   ],
   "source": [
    "# 5. Write a Python program to find the second largest number in a list.\n",
    "\n",
    "def find_second_largest(lst):\n",
    "    if len(lst) < 2:\n",
    "        return \"List should have at least two elements\"\n",
    "    largest = max(lst[0], lst[1])\n",
    "    second_largest = min(lst[0], lst[1])\n",
    "    for num in lst[2:]:\n",
    "        if num > largest:\n",
    "            second_largest = largest\n",
    "            largest = num\n",
    "        elif num > second_largest:\n",
    "            second_largest = num\n",
    "    return second_largest\n",
    "\n",
    "# Example usage\n",
    "numbers = [5, 2, 9, 1, 7, 6]\n",
    "second_largest_number = find_second_largest(numbers)\n",
    "print(second_largest_number)"
   ]
  },
  {
   "cell_type": "code",
   "execution_count": 28,
   "id": "c811f7e4",
   "metadata": {},
   "outputs": [
    {
     "name": "stdout",
     "output_type": "stream",
     "text": [
      "[1, 2, 3, 4, 5]\n"
     ]
    }
   ],
   "source": [
    "# 6. Implement a function to remove duplicate elements from a list.\n",
    "\n",
    "def remove_duplicates(lst):\n",
    "    return list(set(lst))\n",
    "\n",
    "# Example usage\n",
    "numbers = [1, 2, 3, 2, 4, 1, 5]\n",
    "unique_numbers = remove_duplicates(numbers)\n",
    "print(unique_numbers) "
   ]
  },
  {
   "cell_type": "code",
   "execution_count": 29,
   "id": "a6c7931a",
   "metadata": {},
   "outputs": [
    {
     "data": {
      "text/plain": [
       "120"
      ]
     },
     "execution_count": 29,
     "metadata": {},
     "output_type": "execute_result"
    }
   ],
   "source": [
    "# 7. Write a program to calculate the factorial of a given number.\n",
    "\n",
    "def factorial(n):\n",
    "    if n == 0:\n",
    "        return 1\n",
    "    else:\n",
    "        return n * factorial(n - 1)\n",
    "\n",
    "# Example usage\n",
    "num = 5\n",
    "factorial_result = factorial(num)\n",
    "factorial_result"
   ]
  },
  {
   "cell_type": "code",
   "execution_count": 30,
   "id": "10e9903d",
   "metadata": {},
   "outputs": [
    {
     "name": "stdout",
     "output_type": "stream",
     "text": [
      "True\n"
     ]
    }
   ],
   "source": [
    "# 8. Implement a function to check if a given number is prime.\n",
    "\n",
    "def is_prime(n):\n",
    "    if n <= 1:\n",
    "        return False\n",
    "    for i in range(2, int(n ** 0.5) + 1):\n",
    "        if n % i == 0:\n",
    "            return False\n",
    "    return True\n",
    "\n",
    "# Example usage\n",
    "number = 17\n",
    "result = is_prime(number)\n",
    "print(result)"
   ]
  },
  {
   "cell_type": "code",
   "execution_count": 31,
   "id": "bf854a06",
   "metadata": {},
   "outputs": [
    {
     "name": "stdout",
     "output_type": "stream",
     "text": [
      "[1, 2, 5, 6, 7, 9]\n"
     ]
    }
   ],
   "source": [
    "# 9. Write a Python program to sort a list of integers in ascending order.\n",
    "\n",
    "def sort_list(lst):\n",
    "    return sorted(lst)\n",
    "\n",
    "# Example usage\n",
    "numbers = [5, 2, 9, 1, 7, 6]\n",
    "sorted_numbers = sort_list(numbers)\n",
    "print(sorted_numbers) "
   ]
  },
  {
   "cell_type": "code",
   "execution_count": 32,
   "id": "6f9d6a01",
   "metadata": {},
   "outputs": [
    {
     "name": "stdout",
     "output_type": "stream",
     "text": [
      "15\n"
     ]
    }
   ],
   "source": [
    "# 10. Implement a function to find the sum of all numbers in a list.\n",
    "\n",
    "def sum_list(lst):\n",
    "    total = 0\n",
    "    for num in lst:\n",
    "        total += num\n",
    "    return total\n",
    "\n",
    "# Example usage\n",
    "numbers = [1, 2, 3, 4, 5]\n",
    "sum_of_numbers = sum_list(numbers)\n",
    "print(sum_of_numbers)"
   ]
  },
  {
   "cell_type": "code",
   "execution_count": 33,
   "id": "7ff409cf",
   "metadata": {},
   "outputs": [
    {
     "name": "stdout",
     "output_type": "stream",
     "text": [
      "[4, 5]\n"
     ]
    }
   ],
   "source": [
    "# 11. Write a program to find the common elements between two lists.\n",
    "\n",
    "def find_common_elements(list1, list2):\n",
    "    return list(set(list1) & set(list2))\n",
    "\n",
    "# Example usage\n",
    "list1 = [1, 2, 3, 4, 5]\n",
    "list2 = [4, 5, 6, 7, 8]\n",
    "common_elements = find_common_elements(list1, list2)\n",
    "print(common_elements)"
   ]
  },
  {
   "cell_type": "code",
   "execution_count": 34,
   "id": "4abe63b6",
   "metadata": {},
   "outputs": [
    {
     "name": "stdout",
     "output_type": "stream",
     "text": [
      "True\n"
     ]
    }
   ],
   "source": [
    "# 12. Implement a function to check if a given string is an anagram of another string.\n",
    "\n",
    "def is_anagram(string1, string2):\n",
    "    return sorted(string1) == sorted(string2)\n",
    "\n",
    "# Example usage\n",
    "word1 = \"listen\"\n",
    "word2 = \"silent\"\n",
    "result = is_anagram(word1, word2)\n",
    "print(result)"
   ]
  },
  {
   "cell_type": "code",
   "execution_count": 35,
   "id": "901b1570",
   "metadata": {},
   "outputs": [
    {
     "name": "stdout",
     "output_type": "stream",
     "text": [
      "['abc', 'acb', 'bac', 'bca', 'cab', 'cba']\n"
     ]
    }
   ],
   "source": [
    "# 13. Write a Python program to generate all permutations of a given string.\n",
    "\n",
    "def permutations(string):\n",
    "    if len(string) <= 1:\n",
    "        return [string]\n",
    "    permuts = []\n",
    "    for i in range(len(string)):\n",
    "        char = string[i]\n",
    "        remaining_chars = string[:i] + string[i+1:]\n",
    "        for perm in permutations(remaining_chars):\n",
    "            permuts.append(char + perm)\n",
    "    return permuts\n",
    "\n",
    "# Example usage\n",
    "word = \"abc\"\n",
    "perms = permutations(word)\n",
    "print(perms) "
   ]
  },
  {
   "cell_type": "code",
   "execution_count": 36,
   "id": "235152e6",
   "metadata": {},
   "outputs": [
    {
     "name": "stdout",
     "output_type": "stream",
     "text": [
      "[0, 1, 1, 2, 3, 5, 8, 13]\n"
     ]
    }
   ],
   "source": [
    "# 14. Implement a function to calculate the Fibonacci sequence up to a given number of terms.\n",
    "\n",
    "def fibonacci(n):\n",
    "    fib_sequence = [0, 1]\n",
    "    for i in range(2, n):\n",
    "        fib_sequence.append(fib_sequence[i-1] + fib_sequence[i-2])\n",
    "    return fib_sequence\n",
    "\n",
    "# Example usage\n",
    "num_terms = 8\n",
    "fib_sequence = fibonacci(num_terms)\n",
    "print(fib_sequence) "
   ]
  },
  {
   "cell_type": "code",
   "execution_count": 37,
   "id": "2e5f805e",
   "metadata": {},
   "outputs": [
    {
     "name": "stdout",
     "output_type": "stream",
     "text": [
      "3.5\n"
     ]
    }
   ],
   "source": [
    "# 15. Write a program to find the median of a list of numbers.\n",
    "\n",
    "def find_median(lst):\n",
    "    sorted_list = sorted(lst)\n",
    "    n = len(sorted_list)\n",
    "    if n % 2 == 0:\n",
    "        return (sorted_list[n//2 - 1] + sorted_list[n//2]) / 2\n",
    "    else:\n",
    "        return sorted_list[n//2]\n",
    "\n",
    "# Example usage\n",
    "numbers = [1, 3, 5, 2, 4, 6]\n",
    "median = find_median(numbers)\n",
    "print(median) "
   ]
  },
  {
   "cell_type": "code",
   "execution_count": 38,
   "id": "6f6e0c6e",
   "metadata": {},
   "outputs": [
    {
     "name": "stdout",
     "output_type": "stream",
     "text": [
      "True\n",
      "False\n"
     ]
    }
   ],
   "source": [
    "# 16. Implement a function to check if a given list is sorted in non-decreasing order.\n",
    "\n",
    "def is_sorted(lst):\n",
    "    return all(lst[i] <= lst[i + 1] for i in range(len(lst) - 1))\n",
    "\n",
    "# Example usage\n",
    "numbers1 = [1, 2, 3, 4, 5]\n",
    "numbers2 = [5, 2, 9, 1, 7]\n",
    "result1 = is_sorted(numbers1)\n",
    "result2 = is_sorted(numbers2)\n",
    "print(result1)  \n",
    "print(result2) "
   ]
  },
  {
   "cell_type": "code",
   "execution_count": 39,
   "id": "33dd56e3",
   "metadata": {},
   "outputs": [
    {
     "name": "stdout",
     "output_type": "stream",
     "text": [
      "[4, 5]\n"
     ]
    }
   ],
   "source": [
    "# 17. Write a Python program to find the intersection of two lists.\n",
    "\n",
    "def find_intersection(list1, list2):\n",
    "    return list(set(list1) & set(list2))\n",
    "\n",
    "# Example usage\n",
    "list1 = [1, 2, 3, 4, 5]\n",
    "list2 = [4, 5, 6, 7, 8]\n",
    "intersection = find_intersection(list1, list2)\n",
    "print(intersection) "
   ]
  },
  {
   "cell_type": "code",
   "execution_count": 40,
   "id": "600ecd2f",
   "metadata": {},
   "outputs": [
    {
     "name": "stdout",
     "output_type": "stream",
     "text": [
      "6\n"
     ]
    }
   ],
   "source": [
    "# 18. Implement a function to find the maximum subarray sum in a given list.\n",
    "\n",
    "def max_subarray_sum(lst):\n",
    "    max_sum = 0\n",
    "    current_sum = 0\n",
    "    for num in lst:\n",
    "        current_sum += num\n",
    "        if current_sum > max_sum:\n",
    "            max_sum = current_sum\n",
    "        if current_sum < 0:\n",
    "            current_sum = 0\n",
    "    return max_sum\n",
    "\n",
    "# Example usage\n",
    "numbers = [-2, 1, -3, 4, -1, 2, 1, -5, 4]\n",
    "max_sum = max_subarray_sum(numbers)\n",
    "print(max_sum) "
   ]
  },
  {
   "cell_type": "code",
   "execution_count": 41,
   "id": "04518534",
   "metadata": {},
   "outputs": [
    {
     "name": "stdout",
     "output_type": "stream",
     "text": [
      "Hll, Wrld!\n"
     ]
    }
   ],
   "source": [
    "# 19. Write a program to remove all vowels from a given string.\n",
    "\n",
    "def remove_vowels(string):\n",
    "    vowels = \"aeiouAEIOU\"\n",
    "    return \"\".join(char for char in string if char not in vowels)\n",
    "\n",
    "# Example usage\n",
    "input_string = \"Hello, World!\"\n",
    "result = remove_vowels(input_string)\n",
    "print(result) "
   ]
  },
  {
   "cell_type": "code",
   "execution_count": 42,
   "id": "b39448ba",
   "metadata": {},
   "outputs": [
    {
     "name": "stdout",
     "output_type": "stream",
     "text": [
      "World! Hello,\n"
     ]
    }
   ],
   "source": [
    "# 20. Implement a function to reverse the order of words in a given sentence.\n",
    "\n",
    "def reverse_words(sentence):\n",
    "    words = sentence.split()\n",
    "    reversed_sentence = \" \".join(words[::-1])\n",
    "    return reversed_sentence\n",
    "\n",
    "# Example usage\n",
    "input_sentence = \"Hello, World!\"\n",
    "reversed_sentence = reverse_words(input_sentence)\n",
    "print(reversed_sentence) "
   ]
  },
  {
   "cell_type": "code",
   "execution_count": 43,
   "id": "f224bc8a",
   "metadata": {},
   "outputs": [
    {
     "name": "stdout",
     "output_type": "stream",
     "text": [
      "True\n"
     ]
    }
   ],
   "source": [
    "# 21. Write a Python program to check if two strings are anagrams of each other.\n",
    "\n",
    "def is_anagram(string1, string2):\n",
    "    return sorted(string1) == sorted(string2)\n",
    "\n",
    "# Example usage\n",
    "word1 = \"listen\"\n",
    "word2 = \"silent\"\n",
    "result = is_anagram(word1, word2)\n",
    "print(result) "
   ]
  },
  {
   "cell_type": "code",
   "execution_count": 44,
   "id": "6e3199d8",
   "metadata": {},
   "outputs": [
    {
     "name": "stdout",
     "output_type": "stream",
     "text": [
      "c\n"
     ]
    }
   ],
   "source": [
    "# 22. Implement a function to find the first non-repeating character in a string.\n",
    "\n",
    "def find_first_non_repeating(string):\n",
    "    char_counts = {}\n",
    "    for char in string:\n",
    "        if char in char_counts:\n",
    "            char_counts[char] += 1\n",
    "        else:\n",
    "            char_counts[char] = 1\n",
    "    for char in string:\n",
    "        if char_counts[char] == 1:\n",
    "            return char\n",
    "    return None\n",
    "\n",
    "# Example usage\n",
    "input_string = \"abracadabra\"\n",
    "result = find_first_non_repeating(input_string)\n",
    "print(result) "
   ]
  },
  {
   "cell_type": "code",
   "execution_count": 70,
   "id": "00b5a579",
   "metadata": {},
   "outputs": [
    {
     "name": "stdout",
     "output_type": "stream",
     "text": [
      "[2, 2, 3, 7]\n"
     ]
    }
   ],
   "source": [
    "# 23. Write a program to find the prime factors of a given number.\n",
    "\n",
    "def prime_factors(n):\n",
    "    factors = []\n",
    "    i = 2\n",
    "    while i * i <= n:\n",
    "        if n % i:\n",
    "            i += 1\n",
    "        else:\n",
    "            n //= i\n",
    "            factors.append(i)\n",
    "    if n > 1:\n",
    "        factors.append(n)\n",
    "    return factors\n",
    "\n",
    "# Example usage\n",
    "number = 84\n",
    "factors = prime_factors(number)\n",
    "print(factors) "
   ]
  },
  {
   "cell_type": "code",
   "execution_count": 67,
   "id": "81938016",
   "metadata": {},
   "outputs": [
    {
     "name": "stdout",
     "output_type": "stream",
     "text": [
      "True\n",
      "False\n"
     ]
    }
   ],
   "source": [
    "# 24. Implement a function to check if a given number is a power of two.\n",
    "\n",
    "def is_power_of_two(n):\n",
    "    if n <= 0:\n",
    "        return False\n",
    "    while n > 1:\n",
    "        if n % 2 != 0:\n",
    "            return False\n",
    "        n //= 2\n",
    "    return True\n",
    "\n",
    "# Example usage\n",
    "number1 = 16\n",
    "number2 = 20\n",
    "result1 = is_power_of_two(number1)\n",
    "result2 = is_power_of_two(number2)\n",
    "print(result1) \n",
    "print(result2) "
   ]
  },
  {
   "cell_type": "code",
   "execution_count": 66,
   "id": "3f926595",
   "metadata": {},
   "outputs": [
    {
     "name": "stdout",
     "output_type": "stream",
     "text": [
      "[1, 2, 3, 4, 5, 6, 7, 8]\n"
     ]
    }
   ],
   "source": [
    "# 25. Write a Python program to merge two sorted lists into a single sorted list.\n",
    "\n",
    "def merge_sorted_lists(list1, list2):\n",
    "    merged_list = []\n",
    "    i = j = 0\n",
    "    while i < len(list1) and j < len(list2):\n",
    "        if list1[i] < list2[j]:\n",
    "            merged_list.append(list1[i])\n",
    "            i += 1\n",
    "        else:\n",
    "            merged_list.append(list2[j])\n",
    "            j += 1\n",
    "    merged_list.extend(list1[i:])\n",
    "    merged_list.extend(list2[j:])\n",
    "    return merged_list\n",
    "\n",
    "# Example usage\n",
    "list1 = [1, 3, 5, 7]\n",
    "list2 = [2, 4, 6, 8]\n",
    "merged_list = merge_sorted_lists(list1, list2)\n",
    "print(merged_list) "
   ]
  },
  {
   "cell_type": "code",
   "execution_count": 65,
   "id": "e342438c",
   "metadata": {},
   "outputs": [
    {
     "name": "stdout",
     "output_type": "stream",
     "text": [
      "[2]\n"
     ]
    }
   ],
   "source": [
    "# 26. Implement a function to find the mode of a list of numbers.\n",
    "\n",
    "def find_mode(lst):\n",
    "    count_dict = {}\n",
    "    for num in lst:\n",
    "        if num in count_dict:\n",
    "            count_dict[num] += 1\n",
    "        else:\n",
    "            count_dict[num] = 1\n",
    "    max_count = max(count_dict.values())\n",
    "    mode = [num for num, count in count_dict.items() if count == max_count]\n",
    "    return mode\n",
    "\n",
    "# Example usage\n",
    "numbers = [1, 2, 3, 2, 4, 1, 5, 2]\n",
    "mode = find_mode(numbers)\n",
    "print(mode) "
   ]
  },
  {
   "cell_type": "code",
   "execution_count": 64,
   "id": "7876a070",
   "metadata": {},
   "outputs": [
    {
     "name": "stdout",
     "output_type": "stream",
     "text": [
      "12\n"
     ]
    }
   ],
   "source": [
    "# 27. Write a program to find the greatest common divisor (GCD) of two numbers.\n",
    "\n",
    "def gcd(a, b):\n",
    "    while b:\n",
    "        a, b = b, a % b\n",
    "    return a\n",
    "\n",
    "# Example usage\n",
    "num1 = 36\n",
    "num2 = 48\n",
    "result = gcd(num1, num2)\n",
    "print(result) "
   ]
  },
  {
   "cell_type": "code",
   "execution_count": 71,
   "id": "053890fe",
   "metadata": {},
   "outputs": [
    {
     "name": "stdout",
     "output_type": "stream",
     "text": [
      "5.0\n"
     ]
    }
   ],
   "source": [
    "# 28. Implement a function to calculate the square root of a given number.\n",
    "\n",
    "def square_root(n):\n",
    "    if n < 0:\n",
    "        return None\n",
    "    guess = n\n",
    "    i = 0\n",
    "    while i < 10:\n",
    "        guess = (guess + n / guess) / 2\n",
    "        i += 1\n",
    "    return guess\n",
    "\n",
    "# Example usage\n",
    "number = 25\n",
    "sqrt = square_root(number)\n",
    "print(sqrt) "
   ]
  },
  {
   "cell_type": "code",
   "execution_count": 82,
   "id": "f7a131ce",
   "metadata": {},
   "outputs": [
    {
     "name": "stdout",
     "output_type": "stream",
     "text": [
      "True\n"
     ]
    }
   ],
   "source": [
    "# 29. Write a Python program to check if a given string is a valid palindrome ignoring non-alphanumeric characters.\n",
    "\n",
    "def is_valid_palindrome(string):\n",
    "    alphanumeric_string = ''.join(char.lower() for char in string if char.isalnum())\n",
    "    return alphanumeric_string == alphanumeric_string[::-1]\n",
    "\n",
    "# Example usage\n",
    "input_string = \"A man, a plan, a canal: Panama!\"\n",
    "result = is_valid_palindrome(input_string)\n",
    "print(result)"
   ]
  },
  {
   "cell_type": "code",
   "execution_count": 83,
   "id": "fe9f66e1",
   "metadata": {},
   "outputs": [
    {
     "name": "stdout",
     "output_type": "stream",
     "text": [
      "0\n"
     ]
    }
   ],
   "source": [
    "# 30. Implement a function to find the minimum element in a rotated sorted list.\n",
    "\n",
    "def find_min_element(lst):\n",
    "    left = 0\n",
    "    right = len(lst) - 1\n",
    "    while left < right:\n",
    "        mid = (left + right) // 2\n",
    "        if lst[mid] > lst[right]:\n",
    "            left = mid + 1\n",
    "        else:\n",
    "            right = mid\n",
    "    return lst[left]\n",
    "\n",
    "# Example usage\n",
    "numbers = [4, 5, 6, 7, 0, 1, 2]\n",
    "min_element = find_min_element(numbers)\n",
    "print(min_element)  "
   ]
  },
  {
   "cell_type": "code",
   "execution_count": 84,
   "id": "9f3c2bf6",
   "metadata": {},
   "outputs": [
    {
     "name": "stdout",
     "output_type": "stream",
     "text": [
      "12\n"
     ]
    }
   ],
   "source": [
    "# 31. Write a program to find the sum of all even numbers in a list.\n",
    "\n",
    "def sum_even_numbers(lst):\n",
    "    return sum(num for num in lst if num % 2 == 0)\n",
    "\n",
    "# Example usage\n",
    "numbers = [1, 2, 3, 4, 5, 6]\n",
    "sum_even = sum_even_numbers(numbers)\n",
    "print(sum_even)"
   ]
  },
  {
   "cell_type": "code",
   "execution_count": 85,
   "id": "5955c3e4",
   "metadata": {},
   "outputs": [
    {
     "name": "stdout",
     "output_type": "stream",
     "text": [
      "8\n"
     ]
    }
   ],
   "source": [
    "# 32. Implement a function to calculate the power of a number using recursion.\n",
    "\n",
    "def power(base, exponent):\n",
    "    if exponent == 0:\n",
    "        return 1\n",
    "    else:\n",
    "        return base * power(base, exponent - 1)\n",
    "\n",
    "# Example usage\n",
    "base = 2\n",
    "exponent = 3\n",
    "result = power(base, exponent)\n",
    "print(result)"
   ]
  },
  {
   "cell_type": "code",
   "execution_count": 86,
   "id": "88d79c57",
   "metadata": {},
   "outputs": [
    {
     "name": "stdout",
     "output_type": "stream",
     "text": [
      "[1, 2, 3, 4, 5]\n"
     ]
    }
   ],
   "source": [
    "# 33. Write a Python program to remove duplicates from a list while preserving the order.\n",
    "\n",
    "def remove_duplicates_preserve_order(lst):\n",
    "    seen = set()\n",
    "    return [x for x in lst if not (x in seen or seen.add(x))]\n",
    "\n",
    "# Example usage\n",
    "numbers = [1, 2, 3, 2, 4, 1, 5]\n",
    "unique_numbers = remove_duplicates_preserve_order(numbers)\n",
    "print(unique_numbers) "
   ]
  },
  {
   "cell_type": "code",
   "execution_count": 87,
   "id": "fa0d9549",
   "metadata": {},
   "outputs": [
    {
     "name": "stdout",
     "output_type": "stream",
     "text": [
      "fl\n"
     ]
    }
   ],
   "source": [
    "# 34. Implement a function to find the longest common prefix among a list of strings.\n",
    "\n",
    "def longest_common_prefix(strings):\n",
    "    if not strings:\n",
    "        return \"\"\n",
    "    shortest_string = min(strings, key=len)\n",
    "    for i, char in enumerate(shortest_string):\n",
    "        for string in strings:\n",
    "            if string[i] != char:\n",
    "                return shortest_string[:i]\n",
    "    return shortest_string\n",
    "\n",
    "# Example usage\n",
    "words = [\"flower\", \"flow\", \"flight\"]\n",
    "common_prefix = longest_common_prefix(words)\n",
    "print(common_prefix) "
   ]
  },
  {
   "cell_type": "code",
   "execution_count": 88,
   "id": "98d2544f",
   "metadata": {},
   "outputs": [
    {
     "name": "stdout",
     "output_type": "stream",
     "text": [
      "True\n",
      "False\n"
     ]
    }
   ],
   "source": [
    "# 35. Write a program to check if a given number is a perfect square.\n",
    "\n",
    "def is_perfect_square(n):\n",
    "    return n >= 0 and int(n ** 0.5) ** 2 == n\n",
    "\n",
    "# Example usage\n",
    "number1 = 16\n",
    "number2 = 17\n",
    "result1 = is_perfect_square(number1)\n",
    "result2 = is_perfect_square(number2)\n",
    "print(result1) \n",
    "print(result2) "
   ]
  },
  {
   "cell_type": "code",
   "execution_count": 89,
   "id": "5b07cd07",
   "metadata": {},
   "outputs": [
    {
     "data": {
      "text/plain": [
       "180"
      ]
     },
     "execution_count": 89,
     "metadata": {},
     "output_type": "execute_result"
    }
   ],
   "source": [
    "# 36. Implement a function to calculate the product of all elements in a list.\n",
    "\n",
    "def product_of_elements(lst):\n",
    "    product = 1\n",
    "    for num in lst:\n",
    "        product *= num\n",
    "    return product\n",
    "numbers = [1, 2, 3, 5, 6]\n",
    "product_of_elements(numbers)"
   ]
  },
  {
   "cell_type": "code",
   "execution_count": 90,
   "id": "b17ca651",
   "metadata": {},
   "outputs": [
    {
     "name": "stdout",
     "output_type": "stream",
     "text": [
      "amazing. is OpenAI world! Hello,\n"
     ]
    }
   ],
   "source": [
    "# 37. Write a Python program to reverse the order of words in a sentence while preserving the word order.\n",
    "\n",
    "def reverse_words_order(sentence):\n",
    "    words = sentence.split()\n",
    "    reversed_sentence = ' '.join(words[::-1])\n",
    "    return reversed_sentence\n",
    "\n",
    "# Example usage\n",
    "input_sentence = \"Hello, world! OpenAI is amazing.\"\n",
    "reversed_sentence = reverse_words_order(input_sentence)\n",
    "print(reversed_sentence) "
   ]
  },
  {
   "cell_type": "code",
   "execution_count": 91,
   "id": "7c49ac47",
   "metadata": {},
   "outputs": [
    {
     "name": "stdout",
     "output_type": "stream",
     "text": [
      "4\n"
     ]
    }
   ],
   "source": [
    "# 38. Implement a function to find the missing number in a given list of consecutive numbers.\n",
    "\n",
    "def find_missing_number(lst):\n",
    "    n = len(lst) + 1\n",
    "    total_sum = (n * (n + 1)) // 2\n",
    "    actual_sum = sum(lst)\n",
    "    missing_number = total_sum - actual_sum\n",
    "    return missing_number\n",
    "\n",
    "# Example usage\n",
    "numbers = [1, 2, 3, 5, 6]\n",
    "missing_number = find_missing_number(numbers)\n",
    "print(missing_number)"
   ]
  },
  {
   "cell_type": "code",
   "execution_count": 92,
   "id": "f6e3dcf0",
   "metadata": {},
   "outputs": [
    {
     "name": "stdout",
     "output_type": "stream",
     "text": [
      "15\n"
     ]
    }
   ],
   "source": [
    "# 39. Write a program to find the sum of digits of a given number.\n",
    "\n",
    "def sum_of_digits(number):\n",
    "    total_sum = 0\n",
    "    while number > 0:\n",
    "        digit = number % 10\n",
    "        total_sum += digit\n",
    "        number //= 10\n",
    "    return total_sum\n",
    "\n",
    "# Example usage\n",
    "num = 12345\n",
    "digit_sum = sum_of_digits(num)\n",
    "print(digit_sum) "
   ]
  },
  {
   "cell_type": "code",
   "execution_count": 93,
   "id": "dfa350b1",
   "metadata": {},
   "outputs": [
    {
     "name": "stdout",
     "output_type": "stream",
     "text": [
      "True\n"
     ]
    }
   ],
   "source": [
    "# 40. Implement a function to check if a given string is a valid palindrome considering case sensitivity.\n",
    "\n",
    "def is_valid_palindrome(string):\n",
    "    return string == string[::-1]\n",
    "\n",
    "# Example usage\n",
    "input_string = \"level\"\n",
    "result = is_valid_palindrome(input_string)\n",
    "print(result)"
   ]
  },
  {
   "cell_type": "code",
   "execution_count": 94,
   "id": "6439bb83",
   "metadata": {},
   "outputs": [
    {
     "name": "stdout",
     "output_type": "stream",
     "text": [
      "2\n"
     ]
    }
   ],
   "source": [
    "# 41. Write a Python program to find the smallest missing positive integer in a list.\n",
    "\n",
    "def find_smallest_missing_positive(lst):\n",
    "    n = len(lst)\n",
    "    for i in range(n):\n",
    "        while 0 <= lst[i] - 1 < n and lst[lst[i] - 1] != lst[i]:\n",
    "            lst[lst[i] - 1], lst[i] = lst[i], lst[lst[i] - 1]\n",
    "    for i in range(n):\n",
    "        if lst[i] != i + 1:\n",
    "            return i + 1\n",
    "    return n + 1\n",
    "\n",
    "# Example usage\n",
    "numbers = [3, 4, -1, 1]\n",
    "smallest_missing = find_smallest_missing_positive(numbers)\n",
    "print(smallest_missing)  \n"
   ]
  },
  {
   "cell_type": "code",
   "execution_count": 95,
   "id": "7b208e2e",
   "metadata": {},
   "outputs": [
    {
     "name": "stdout",
     "output_type": "stream",
     "text": [
      "bab\n"
     ]
    }
   ],
   "source": [
    "# 42. Implement a function to find the longest palindrome substring in a given string.\n",
    "\n",
    "def longest_palindrome_substring(string):\n",
    "    longest_palindrome = \"\"\n",
    "    for i in range(len(string)):\n",
    "        for j in range(i, len(string)):\n",
    "            substring = string[i:j+1]\n",
    "            if substring == substring[::-1] and len(substring) > len(longest_palindrome):\n",
    "                longest_palindrome = substring\n",
    "    return longest_palindrome\n",
    "\n",
    "# Example usage\n",
    "input_string = \"babad\"\n",
    "longest_palindrome = longest_palindrome_substring(input_string)\n",
    "print(longest_palindrome) "
   ]
  },
  {
   "cell_type": "code",
   "execution_count": 96,
   "id": "63b75750",
   "metadata": {},
   "outputs": [
    {
     "name": "stdout",
     "output_type": "stream",
     "text": [
      "3\n"
     ]
    }
   ],
   "source": [
    "# 43. Write a program to find the number of occurrences of a given element in a list.\n",
    "\n",
    "def count_occurrences(lst, element):\n",
    "    return lst.count(element)\n",
    "\n",
    "# Example usage\n",
    "numbers = [1, 2, 3, 2, 4, 1, 5, 2]\n",
    "occurrences = count_occurrences(numbers, 2)\n",
    "print(occurrences)\n"
   ]
  },
  {
   "cell_type": "code",
   "execution_count": 97,
   "id": "da0c9eb1",
   "metadata": {},
   "outputs": [
    {
     "name": "stdout",
     "output_type": "stream",
     "text": [
      "True\n",
      "False\n"
     ]
    }
   ],
   "source": [
    "# 44. Implement a function to check if a given number is a perfect number.\n",
    "\n",
    "def is_perfect_number(n):\n",
    "    if n <= 0:\n",
    "        return False\n",
    "    divisors_sum = sum(i for i in range(1, n) if n % i == 0)\n",
    "    return divisors_sum == n\n",
    "\n",
    "# Example usage\n",
    "number1 = 6\n",
    "number2 = 12\n",
    "result1 = is_perfect_number(number1)\n",
    "result2 = is_perfect_number(number2)\n",
    "print(result1) \n",
    "print(result2)"
   ]
  },
  {
   "cell_type": "code",
   "execution_count": 115,
   "id": "ac9962e7",
   "metadata": {},
   "outputs": [
    {
     "name": "stdout",
     "output_type": "stream",
     "text": [
      "Helo, Wrd!\n"
     ]
    }
   ],
   "source": [
    "# 45. Write a Python program to remove all duplicates from a string.\n",
    "\n",
    "def remove_duplicates(string):\n",
    "    return ''.join(sorted(set(string), key=string.index))\n",
    "\n",
    "# Example usage\n",
    "input_string = \"Hello, World!\"\n",
    "result = remove_duplicates(input_string)\n",
    "print(result)"
   ]
  },
  {
   "cell_type": "code",
   "execution_count": 116,
   "id": "7aca365d",
   "metadata": {},
   "outputs": [
    {
     "name": "stdout",
     "output_type": "stream",
     "text": [
      "2\n"
     ]
    }
   ],
   "source": [
    "# 46. Implement a function to find the first missing positive number.\n",
    "\n",
    "def find_first_missing_positive(lst):\n",
    "    n = len(lst)\n",
    "    for i in range(n):\n",
    "        while 1 <= lst[i] <= n and lst[lst[i] - 1] != lst[i]:\n",
    "            lst[lst[i] - 1], lst[i] = lst[i], lst[lst[i] - 1]\n",
    "    for i in range(n):\n",
    "        if lst[i] != i + 1:\n",
    "            return i + 1\n",
    "    return n + 1\n",
    "\n",
    "# Example usage\n",
    "numbers = [3, 4, -1, 1]\n",
    "first_missing_positive = find_first_missing_positive(numbers)\n",
    "print(first_missing_positive)\n"
   ]
  }
 ],
 "metadata": {
  "kernelspec": {
   "display_name": "Python 3 (ipykernel)",
   "language": "python",
   "name": "python3"
  },
  "language_info": {
   "codemirror_mode": {
    "name": "ipython",
    "version": 3
   },
   "file_extension": ".py",
   "mimetype": "text/x-python",
   "name": "python",
   "nbconvert_exporter": "python",
   "pygments_lexer": "ipython3",
   "version": "3.9.12"
  }
 },
 "nbformat": 4,
 "nbformat_minor": 5
}
