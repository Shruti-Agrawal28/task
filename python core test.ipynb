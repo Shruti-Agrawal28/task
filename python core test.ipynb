{
 "cells": [
  {
   "cell_type": "markdown",
   "id": "f4d917c2",
   "metadata": {},
   "source": [
    "### QUESTION 17"
   ]
  },
  {
   "cell_type": "code",
   "execution_count": 2,
   "id": "23ffcedd",
   "metadata": {},
   "outputs": [],
   "source": [
    "def even_list(original):\n",
    "    even_numbers = [num for num in original_list if num % 2 == 0]\n",
    "    return even_numbers    "
   ]
  },
  {
   "cell_type": "code",
   "execution_count": 3,
   "id": "17698175",
   "metadata": {},
   "outputs": [
    {
     "data": {
      "text/plain": [
       "[2, 4, 6, 8, 10]"
      ]
     },
     "execution_count": 3,
     "metadata": {},
     "output_type": "execute_result"
    }
   ],
   "source": [
    "original_list = [1, 2, 3, 4, 5, 6, 7, 8, 9, 10]\n",
    "even_list(original_list)"
   ]
  },
  {
   "cell_type": "markdown",
   "id": "473ceff6",
   "metadata": {},
   "source": [
    "### QUESTION 18"
   ]
  },
  {
   "cell_type": "code",
   "execution_count": 5,
   "id": "e4bdff9a",
   "metadata": {},
   "outputs": [
    {
     "name": "stdout",
     "output_type": "stream",
     "text": [
      "Executing my_function...\n",
      "my_function execution complete.\n",
      "Execution time: 2.00853 seconds\n"
     ]
    }
   ],
   "source": [
    "import time\n",
    "\n",
    "def timer(func):\n",
    "    def wrapper(*args, **kwargs):\n",
    "        start_time = time.time()\n",
    "        result = func(*args, **kwargs)\n",
    "        end_time = time.time()\n",
    "        execution_time = end_time - start_time\n",
    "        print(f\"Execution time: {execution_time:.5f} seconds\")\n",
    "        return result\n",
    "    return wrapper\n",
    "\n",
    "@timer\n",
    "def my_function():\n",
    "    print(\"Executing my_function...\")\n",
    "    time.sleep(2)\n",
    "    print(\"my_function execution complete.\")\n",
    "\n",
    "my_function()\n"
   ]
  },
  {
   "cell_type": "markdown",
   "id": "09e4bf33",
   "metadata": {},
   "source": [
    "### QUESTION 19"
   ]
  },
  {
   "cell_type": "code",
   "execution_count": 6,
   "id": "e6c23c96",
   "metadata": {},
   "outputs": [
    {
     "name": "stdout",
     "output_type": "stream",
     "text": [
      "Mean: 20.0\n"
     ]
    }
   ],
   "source": [
    "def calculate_mean(numbers):\n",
    "    return sum(numbers) / len(numbers)\n",
    "\n",
    "data = [10, 15, 20, 25, 30]\n",
    "mean_value = calculate_mean(data)\n",
    "print(\"Mean:\", mean_value)\n"
   ]
  },
  {
   "cell_type": "markdown",
   "id": "f43cc91f",
   "metadata": {},
   "source": [
    "### QUESTION 20"
   ]
  },
  {
   "cell_type": "code",
   "execution_count": 11,
   "id": "ace6306d",
   "metadata": {},
   "outputs": [
    {
     "name": "stdout",
     "output_type": "stream",
     "text": [
      "P-value: 0.13397459621556118\n"
     ]
    }
   ],
   "source": [
    "from scipy import stats\n",
    "\n",
    "def perform_hypothesis_test(sample1, sample2):\n",
    "    t_statistic, p_value = stats.ttest_ind(sample1, sample2)\n",
    "    return p_value\n",
    "\n",
    "sample1 = [5, 10, 15, 20]\n",
    "sample2 = [10, 20, 30, 40]\n",
    "p_value = perform_hypothesis_test(sample1, sample2)\n",
    "print(\"P-value:\", p_value)\n"
   ]
  }
 ],
 "metadata": {
  "kernelspec": {
   "display_name": "Python 3 (ipykernel)",
   "language": "python",
   "name": "python3"
  },
  "language_info": {
   "codemirror_mode": {
    "name": "ipython",
    "version": 3
   },
   "file_extension": ".py",
   "mimetype": "text/x-python",
   "name": "python",
   "nbconvert_exporter": "python",
   "pygments_lexer": "ipython3",
   "version": "3.9.12"
  }
 },
 "nbformat": 4,
 "nbformat_minor": 5
}
